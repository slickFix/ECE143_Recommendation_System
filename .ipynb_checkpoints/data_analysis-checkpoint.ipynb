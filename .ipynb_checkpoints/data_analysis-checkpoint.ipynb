{
 "cells": [
  {
   "cell_type": "code",
   "execution_count": 1,
   "metadata": {
    "colab": {
     "base_uri": "https://localhost:8080/"
    },
    "executionInfo": {
     "elapsed": 3849,
     "status": "ok",
     "timestamp": 1676745477508,
     "user": {
      "displayName": "Aman Gupta",
      "userId": "04941077079014271357"
     },
     "user_tz": 480
    },
    "id": "XgCebsI4tbwr",
    "outputId": "c9aa82c7-876f-4991-db01-5ab3c3bb7362"
   },
   "outputs": [
    {
     "name": "stdout",
     "output_type": "stream",
     "text": [
      "Drive already mounted at /content/drive; to attempt to forcibly remount, call drive.mount(\"/content/drive\", force_remount=True).\n"
     ]
    }
   ],
   "source": [
    "import pandas as pd\n",
    "import numpy as np\n",
    "import gzip\n",
    "import csv\n",
    "import seaborn\n",
    "\n",
    "from google.colab import drive\n",
    "from google.colab import files\n",
    "drive.mount('/content/drive')"
   ]
  },
  {
   "cell_type": "code",
   "execution_count": 2,
   "metadata": {
    "colab": {
     "base_uri": "https://localhost:8080/"
    },
    "executionInfo": {
     "elapsed": 9,
     "status": "ok",
     "timestamp": 1676745477509,
     "user": {
      "displayName": "Aman Gupta",
      "userId": "04941077079014271357"
     },
     "user_tz": 480
    },
    "id": "SMJmwUTIth12",
    "outputId": "51313ec8-e7cd-439e-cc47-f051bbde0ca0"
   },
   "outputs": [
    {
     "name": "stderr",
     "output_type": "stream",
     "text": [
      "/usr/local/lib/python3.8/dist-packages/IPython/core/interactiveshell.py:3326: DtypeWarning: Columns (7) have mixed types.Specify dtype option on import or set low_memory=False.\n",
      "  exec(code_obj, self.user_global_ns, self.user_ns)\n"
     ]
    }
   ],
   "source": [
    "projectData = pd.read_csv('/content/drive/MyDrive/ECE 143 #8/Project/Data/df.csv')"
   ]
  },
  {
   "cell_type": "code",
   "execution_count": 3,
   "metadata": {
    "colab": {
     "base_uri": "https://localhost:8080/",
     "height": 419
    },
    "executionInfo": {
     "elapsed": 71,
     "status": "ok",
     "timestamp": 1676745479716,
     "user": {
      "displayName": "Aman Gupta",
      "userId": "04941077079014271357"
     },
     "user_tz": 480
    },
    "id": "fTWogCj9t4ic",
    "outputId": "164ebf0f-20df-4195-a3b7-057f505c9ef4"
   },
   "outputs": [
    {
     "data": {
      "text/html": [
       "\n",
       "  <div id=\"df-2ddaa3af-9119-4159-a040-3ed13465438b\">\n",
       "    <div class=\"colab-df-container\">\n",
       "      <div>\n",
       "<style scoped>\n",
       "    .dataframe tbody tr th:only-of-type {\n",
       "        vertical-align: middle;\n",
       "    }\n",
       "\n",
       "    .dataframe tbody tr th {\n",
       "        vertical-align: top;\n",
       "    }\n",
       "\n",
       "    .dataframe thead th {\n",
       "        text-align: right;\n",
       "    }\n",
       "</style>\n",
       "<table border=\"1\" class=\"dataframe\">\n",
       "  <thead>\n",
       "    <tr style=\"text-align: right;\">\n",
       "      <th></th>\n",
       "      <th>Unnamed: 0</th>\n",
       "      <th>WatchingID</th>\n",
       "      <th>UserID</th>\n",
       "      <th>ProviderID</th>\n",
       "      <th>MovieID</th>\n",
       "      <th>WatchDate</th>\n",
       "      <th>MovieType</th>\n",
       "      <th>MovieRank</th>\n",
       "      <th>Days_Since_Watched</th>\n",
       "      <th>Month</th>\n",
       "    </tr>\n",
       "  </thead>\n",
       "  <tbody>\n",
       "    <tr>\n",
       "      <th>0</th>\n",
       "      <td>0</td>\n",
       "      <td>17556</td>\n",
       "      <td>2591</td>\n",
       "      <td>1</td>\n",
       "      <td>88879</td>\n",
       "      <td>2018-08-11 10:01:20</td>\n",
       "      <td>2</td>\n",
       "      <td>5</td>\n",
       "      <td>1642</td>\n",
       "      <td>8</td>\n",
       "    </tr>\n",
       "    <tr>\n",
       "      <th>1</th>\n",
       "      <td>1</td>\n",
       "      <td>17557</td>\n",
       "      <td>3101</td>\n",
       "      <td>1</td>\n",
       "      <td>88879</td>\n",
       "      <td>2018-08-13 14:51:16</td>\n",
       "      <td>2</td>\n",
       "      <td>5</td>\n",
       "      <td>1640</td>\n",
       "      <td>8</td>\n",
       "    </tr>\n",
       "    <tr>\n",
       "      <th>2</th>\n",
       "      <td>2</td>\n",
       "      <td>17598</td>\n",
       "      <td>3101</td>\n",
       "      <td>1</td>\n",
       "      <td>88879</td>\n",
       "      <td>2018-12-20 14:59:32</td>\n",
       "      <td>2</td>\n",
       "      <td>5</td>\n",
       "      <td>1511</td>\n",
       "      <td>12</td>\n",
       "    </tr>\n",
       "    <tr>\n",
       "      <th>3</th>\n",
       "      <td>3</td>\n",
       "      <td>17598</td>\n",
       "      <td>3101</td>\n",
       "      <td>1</td>\n",
       "      <td>88879</td>\n",
       "      <td>2018-12-20 14:59:32</td>\n",
       "      <td>2</td>\n",
       "      <td>5</td>\n",
       "      <td>1511</td>\n",
       "      <td>12</td>\n",
       "    </tr>\n",
       "    <tr>\n",
       "      <th>4</th>\n",
       "      <td>4</td>\n",
       "      <td>17604</td>\n",
       "      <td>9459937</td>\n",
       "      <td>1</td>\n",
       "      <td>88879</td>\n",
       "      <td>2019-01-23 10:31:13</td>\n",
       "      <td>2</td>\n",
       "      <td>5</td>\n",
       "      <td>1477</td>\n",
       "      <td>1</td>\n",
       "    </tr>\n",
       "    <tr>\n",
       "      <th>...</th>\n",
       "      <td>...</td>\n",
       "      <td>...</td>\n",
       "      <td>...</td>\n",
       "      <td>...</td>\n",
       "      <td>...</td>\n",
       "      <td>...</td>\n",
       "      <td>...</td>\n",
       "      <td>...</td>\n",
       "      <td>...</td>\n",
       "      <td>...</td>\n",
       "    </tr>\n",
       "    <tr>\n",
       "      <th>88085</th>\n",
       "      <td>88085</td>\n",
       "      <td>73266</td>\n",
       "      <td>9468430</td>\n",
       "      <td>1</td>\n",
       "      <td>9948</td>\n",
       "      <td>2022-11-17 16:20:39</td>\n",
       "      <td>1</td>\n",
       "      <td>3</td>\n",
       "      <td>83</td>\n",
       "      <td>11</td>\n",
       "    </tr>\n",
       "    <tr>\n",
       "      <th>88086</th>\n",
       "      <td>88086</td>\n",
       "      <td>73310</td>\n",
       "      <td>9467397</td>\n",
       "      <td>1</td>\n",
       "      <td>112749</td>\n",
       "      <td>2022-11-17 18:49:09</td>\n",
       "      <td>1</td>\n",
       "      <td>4</td>\n",
       "      <td>83</td>\n",
       "      <td>11</td>\n",
       "    </tr>\n",
       "    <tr>\n",
       "      <th>88087</th>\n",
       "      <td>88087</td>\n",
       "      <td>73371</td>\n",
       "      <td>9468018</td>\n",
       "      <td>2</td>\n",
       "      <td>109281</td>\n",
       "      <td>2022-11-18 12:10:21</td>\n",
       "      <td>1</td>\n",
       "      <td>3</td>\n",
       "      <td>82</td>\n",
       "      <td>11</td>\n",
       "    </tr>\n",
       "    <tr>\n",
       "      <th>88088</th>\n",
       "      <td>88088</td>\n",
       "      <td>73371</td>\n",
       "      <td>9468018</td>\n",
       "      <td>2</td>\n",
       "      <td>109281</td>\n",
       "      <td>2022-11-18 12:10:21</td>\n",
       "      <td>1</td>\n",
       "      <td>3</td>\n",
       "      <td>82</td>\n",
       "      <td>11</td>\n",
       "    </tr>\n",
       "    <tr>\n",
       "      <th>88089</th>\n",
       "      <td>88089</td>\n",
       "      <td>73381</td>\n",
       "      <td>9468360</td>\n",
       "      <td>1</td>\n",
       "      <td>109508</td>\n",
       "      <td>2022-11-18 13:01:19</td>\n",
       "      <td>1</td>\n",
       "      <td>4</td>\n",
       "      <td>82</td>\n",
       "      <td>11</td>\n",
       "    </tr>\n",
       "  </tbody>\n",
       "</table>\n",
       "<p>88090 rows × 10 columns</p>\n",
       "</div>\n",
       "      <button class=\"colab-df-convert\" onclick=\"convertToInteractive('df-2ddaa3af-9119-4159-a040-3ed13465438b')\"\n",
       "              title=\"Convert this dataframe to an interactive table.\"\n",
       "              style=\"display:none;\">\n",
       "        \n",
       "  <svg xmlns=\"http://www.w3.org/2000/svg\" height=\"24px\"viewBox=\"0 0 24 24\"\n",
       "       width=\"24px\">\n",
       "    <path d=\"M0 0h24v24H0V0z\" fill=\"none\"/>\n",
       "    <path d=\"M18.56 5.44l.94 2.06.94-2.06 2.06-.94-2.06-.94-.94-2.06-.94 2.06-2.06.94zm-11 1L8.5 8.5l.94-2.06 2.06-.94-2.06-.94L8.5 2.5l-.94 2.06-2.06.94zm10 10l.94 2.06.94-2.06 2.06-.94-2.06-.94-.94-2.06-.94 2.06-2.06.94z\"/><path d=\"M17.41 7.96l-1.37-1.37c-.4-.4-.92-.59-1.43-.59-.52 0-1.04.2-1.43.59L10.3 9.45l-7.72 7.72c-.78.78-.78 2.05 0 2.83L4 21.41c.39.39.9.59 1.41.59.51 0 1.02-.2 1.41-.59l7.78-7.78 2.81-2.81c.8-.78.8-2.07 0-2.86zM5.41 20L4 18.59l7.72-7.72 1.47 1.35L5.41 20z\"/>\n",
       "  </svg>\n",
       "      </button>\n",
       "      \n",
       "  <style>\n",
       "    .colab-df-container {\n",
       "      display:flex;\n",
       "      flex-wrap:wrap;\n",
       "      gap: 12px;\n",
       "    }\n",
       "\n",
       "    .colab-df-convert {\n",
       "      background-color: #E8F0FE;\n",
       "      border: none;\n",
       "      border-radius: 50%;\n",
       "      cursor: pointer;\n",
       "      display: none;\n",
       "      fill: #1967D2;\n",
       "      height: 32px;\n",
       "      padding: 0 0 0 0;\n",
       "      width: 32px;\n",
       "    }\n",
       "\n",
       "    .colab-df-convert:hover {\n",
       "      background-color: #E2EBFA;\n",
       "      box-shadow: 0px 1px 2px rgba(60, 64, 67, 0.3), 0px 1px 3px 1px rgba(60, 64, 67, 0.15);\n",
       "      fill: #174EA6;\n",
       "    }\n",
       "\n",
       "    [theme=dark] .colab-df-convert {\n",
       "      background-color: #3B4455;\n",
       "      fill: #D2E3FC;\n",
       "    }\n",
       "\n",
       "    [theme=dark] .colab-df-convert:hover {\n",
       "      background-color: #434B5C;\n",
       "      box-shadow: 0px 1px 3px 1px rgba(0, 0, 0, 0.15);\n",
       "      filter: drop-shadow(0px 1px 2px rgba(0, 0, 0, 0.3));\n",
       "      fill: #FFFFFF;\n",
       "    }\n",
       "  </style>\n",
       "\n",
       "      <script>\n",
       "        const buttonEl =\n",
       "          document.querySelector('#df-2ddaa3af-9119-4159-a040-3ed13465438b button.colab-df-convert');\n",
       "        buttonEl.style.display =\n",
       "          google.colab.kernel.accessAllowed ? 'block' : 'none';\n",
       "\n",
       "        async function convertToInteractive(key) {\n",
       "          const element = document.querySelector('#df-2ddaa3af-9119-4159-a040-3ed13465438b');\n",
       "          const dataTable =\n",
       "            await google.colab.kernel.invokeFunction('convertToInteractive',\n",
       "                                                     [key], {});\n",
       "          if (!dataTable) return;\n",
       "\n",
       "          const docLinkHtml = 'Like what you see? Visit the ' +\n",
       "            '<a target=\"_blank\" href=https://colab.research.google.com/notebooks/data_table.ipynb>data table notebook</a>'\n",
       "            + ' to learn more about interactive tables.';\n",
       "          element.innerHTML = '';\n",
       "          dataTable['output_type'] = 'display_data';\n",
       "          await google.colab.output.renderOutput(dataTable, element);\n",
       "          const docLink = document.createElement('div');\n",
       "          docLink.innerHTML = docLinkHtml;\n",
       "          element.appendChild(docLink);\n",
       "        }\n",
       "      </script>\n",
       "    </div>\n",
       "  </div>\n",
       "  "
      ],
      "text/plain": [
       "       Unnamed: 0  WatchingID   UserID  ProviderID  MovieID  \\\n",
       "0               0       17556     2591           1    88879   \n",
       "1               1       17557     3101           1    88879   \n",
       "2               2       17598     3101           1    88879   \n",
       "3               3       17598     3101           1    88879   \n",
       "4               4       17604  9459937           1    88879   \n",
       "...           ...         ...      ...         ...      ...   \n",
       "88085       88085       73266  9468430           1     9948   \n",
       "88086       88086       73310  9467397           1   112749   \n",
       "88087       88087       73371  9468018           2   109281   \n",
       "88088       88088       73371  9468018           2   109281   \n",
       "88089       88089       73381  9468360           1   109508   \n",
       "\n",
       "                 WatchDate  MovieType MovieRank  Days_Since_Watched  Month  \n",
       "0      2018-08-11 10:01:20          2         5                1642      8  \n",
       "1      2018-08-13 14:51:16          2         5                1640      8  \n",
       "2      2018-12-20 14:59:32          2         5                1511     12  \n",
       "3      2018-12-20 14:59:32          2         5                1511     12  \n",
       "4      2019-01-23 10:31:13          2         5                1477      1  \n",
       "...                    ...        ...       ...                 ...    ...  \n",
       "88085  2022-11-17 16:20:39          1         3                  83     11  \n",
       "88086  2022-11-17 18:49:09          1         4                  83     11  \n",
       "88087  2022-11-18 12:10:21          1         3                  82     11  \n",
       "88088  2022-11-18 12:10:21          1         3                  82     11  \n",
       "88089  2022-11-18 13:01:19          1         4                  82     11  \n",
       "\n",
       "[88090 rows x 10 columns]"
      ]
     },
     "execution_count": 3,
     "metadata": {},
     "output_type": "execute_result"
    }
   ],
   "source": [
    "projectData"
   ]
  },
  {
   "cell_type": "markdown",
   "metadata": {
    "id": "ji54IfpFuqlE"
   },
   "source": [
    "**Starting Analysis**\n",
    "We're taking a look at some basic aspects of the data such as the amount of movies, users and providers that we have."
   ]
  },
  {
   "cell_type": "code",
   "execution_count": 4,
   "metadata": {
    "colab": {
     "base_uri": "https://localhost:8080/"
    },
    "executionInfo": {
     "elapsed": 68,
     "status": "ok",
     "timestamp": 1676745479717,
     "user": {
      "displayName": "Aman Gupta",
      "userId": "04941077079014271357"
     },
     "user_tz": 480
    },
    "id": "TebHoVA4t7hI",
    "outputId": "fdc930e5-3b53-455b-cbb8-406fd08e56ac"
   },
   "outputs": [
    {
     "data": {
      "text/plain": [
       "1436"
      ]
     },
     "execution_count": 4,
     "metadata": {},
     "output_type": "execute_result"
    }
   ],
   "source": [
    "len(projectData[\"MovieID\"].unique())"
   ]
  },
  {
   "cell_type": "code",
   "execution_count": 5,
   "metadata": {
    "colab": {
     "base_uri": "https://localhost:8080/"
    },
    "executionInfo": {
     "elapsed": 65,
     "status": "ok",
     "timestamp": 1676745479718,
     "user": {
      "displayName": "Aman Gupta",
      "userId": "04941077079014271357"
     },
     "user_tz": 480
    },
    "id": "BGLJ5IjhuZLO",
    "outputId": "d81b1b8b-8862-461d-b7b5-f5641cecd88f"
   },
   "outputs": [
    {
     "data": {
      "text/plain": [
       "1839"
      ]
     },
     "execution_count": 5,
     "metadata": {},
     "output_type": "execute_result"
    }
   ],
   "source": [
    "len(projectData[\"UserID\"].unique())"
   ]
  },
  {
   "cell_type": "code",
   "execution_count": 6,
   "metadata": {
    "colab": {
     "base_uri": "https://localhost:8080/"
    },
    "executionInfo": {
     "elapsed": 61,
     "status": "ok",
     "timestamp": 1676745479718,
     "user": {
      "displayName": "Aman Gupta",
      "userId": "04941077079014271357"
     },
     "user_tz": 480
    },
    "id": "NdfNkkIuunLB",
    "outputId": "6f339def-f4a1-4630-b84a-eb2a6bc4fe2e"
   },
   "outputs": [
    {
     "data": {
      "text/plain": [
       "8"
      ]
     },
     "execution_count": 6,
     "metadata": {},
     "output_type": "execute_result"
    }
   ],
   "source": [
    "len(projectData[\"ProviderID\"].unique())"
   ]
  },
  {
   "cell_type": "code",
   "execution_count": 10,
   "metadata": {
    "colab": {
     "base_uri": "https://localhost:8080/"
    },
    "executionInfo": {
     "elapsed": 815,
     "status": "ok",
     "timestamp": 1676745824171,
     "user": {
      "displayName": "Aman Gupta",
      "userId": "04941077079014271357"
     },
     "user_tz": 480
    },
    "id": "QN1yC3QjupQq",
    "outputId": "157a13cb-f438-4103-fccb-7a471d12c7ea"
   },
   "outputs": [
    {
     "data": {
      "text/plain": [
       "9468430    49866\n",
       "9468018      989\n",
       "9467255      868\n",
       "9465793      723\n",
       "9466557      640\n",
       "           ...  \n",
       "9465934        1\n",
       "9474711        1\n",
       "9463922        1\n",
       "9467960        1\n",
       "9474710        1\n",
       "Name: UserID, Length: 1839, dtype: int64"
      ]
     },
     "execution_count": 10,
     "metadata": {},
     "output_type": "execute_result"
    }
   ],
   "source": [
    "projectData.loc[:,(\"UserID\")].value_counts(sort=True, bins = 10)"
   ]
  },
  {
   "cell_type": "code",
   "execution_count": 11,
   "metadata": {
    "colab": {
     "base_uri": "https://localhost:8080/",
     "height": 296
    },
    "executionInfo": {
     "elapsed": 44479,
     "status": "ok",
     "timestamp": 1676746077150,
     "user": {
      "displayName": "Aman Gupta",
      "userId": "04941077079014271357"
     },
     "user_tz": 480
    },
    "id": "TbbnhxrkzRX1",
    "outputId": "82212ccf-161c-4afb-b764-f3fde2fa7db0"
   },
   "outputs": [
    {
     "data": {
      "text/plain": [
       "<matplotlib.axes._subplots.AxesSubplot at 0x7f34a81db940>"
      ]
     },
     "execution_count": 11,
     "metadata": {},
     "output_type": "execute_result"
    },
    {
     "data": {
      "image/png": "[encoded data removed]",
      "text/plain": [
       "<Figure size 432x288 with 1 Axes>"
      ]
     },
     "metadata": {
      "needs_background": "light"
     },
     "output_type": "display_data"
    }
   ],
   "source": []
  },
  {
   "cell_type": "code",
   "execution_count": null,
   "metadata": {
    "id": "zWBhE70MvlgV"
   },
   "outputs": [],
   "source": []
  }
 ],
 "metadata": {
  "colab": {
   "authorship_tag": "ABX9TyPES5t+ARHQzP7IJXO0znc2",
   "provenance": []
  },
  "kernelspec": {
   "display_name": "Python 3 (ipykernel)",
   "language": "python",
   "name": "python3"
  },
  "language_info": {
   "codemirror_mode": {
    "name": "ipython",
    "version": 3
   },
   "file_extension": ".py",
   "mimetype": "text/x-python",
   "name": "python",
   "nbconvert_exporter": "python",
   "pygments_lexer": "ipython3",
   "version": "3.10.4"
  }
 },
 "nbformat": 4,
 "nbformat_minor": 1
}
